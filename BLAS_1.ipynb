{
 "cells": [
  {
   "cell_type": "markdown",
   "id": "8bd2587a",
   "metadata": {},
   "source": [
    "# Библиотека BLAS"
   ]
  },
  {
   "cell_type": "markdown",
   "id": "7640b84a",
   "metadata": {},
   "source": [
    "Полезные ссылки:\n",
    "\n",
    "https://docs.scipy.org/doc/scipy/reference/linalg.blas.html\n",
    "\n",
    "https://www.math.utah.edu/software/lapack/#generalinformation\n",
    "\n",
    "https://www.netlib.org/blas/\n",
    "\n",
    "https://www.netlib.org/lapack/\n",
    "\n",
    "Последние две ссылки могут не открываться без vpn"
   ]
  },
  {
   "cell_type": "code",
   "execution_count": 1,
   "id": "f89cdeb9",
   "metadata": {},
   "outputs": [],
   "source": [
    "from scipy.linalg import blas\n",
    "import numpy as np\n",
    "import scipy as sp"
   ]
  },
  {
   "cell_type": "code",
   "execution_count": 2,
   "id": "5318e6a6",
   "metadata": {},
   "outputs": [],
   "source": [
    "n = 3\n",
    "A = np.array([[1,2,3],[4,5,6],[7,8,9]])\n",
    "B = np.array([[1,2,3],[4,5,6],[7,8,9]], order = 'F')"
   ]
  },
  {
   "cell_type": "code",
   "execution_count": 3,
   "id": "788f1fc9",
   "metadata": {},
   "outputs": [
    {
     "name": "stdout",
     "output_type": "stream",
     "text": [
      "1 2 3 4 5 6 7 8 9 \n",
      "\n",
      "1 2 3 4 5 6 7 8 9 "
     ]
    }
   ],
   "source": [
    "for cell in A.flatten():\n",
    "    print(cell, end=' ')\n",
    "\n",
    "print('\\n')\n",
    "    \n",
    "for cell in B.flatten():\n",
    "    print(cell, end=' ')"
   ]
  },
  {
   "cell_type": "code",
   "execution_count": 4,
   "id": "fb2507c3",
   "metadata": {},
   "outputs": [
    {
     "name": "stdout",
     "output_type": "stream",
     "text": [
      "1 2 3 4 5 6 7 8 9 "
     ]
    }
   ],
   "source": [
    "for x in np.nditer(A):\n",
    "    print(x, end=' ')"
   ]
  },
  {
   "cell_type": "code",
   "execution_count": 5,
   "id": "c2f81cf1",
   "metadata": {},
   "outputs": [
    {
     "name": "stdout",
     "output_type": "stream",
     "text": [
      "1 4 7 2 5 8 3 6 9 "
     ]
    }
   ],
   "source": [
    "for x in np.nditer(B):\n",
    "    print(x, end=' ')"
   ]
  },
  {
   "cell_type": "code",
   "execution_count": 6,
   "id": "84a998e6",
   "metadata": {},
   "outputs": [],
   "source": [
    "n = 2000\n",
    "A = np.array(np.random.randn(n,n), order='F')\n",
    "B = np.array(np.random.randn(n,n), order='F')"
   ]
  },
  {
   "cell_type": "code",
   "execution_count": 7,
   "id": "868b99f1",
   "metadata": {},
   "outputs": [
    {
     "data": {
      "text/plain": [
       "5.184653607576806e-12"
      ]
     },
     "execution_count": 7,
     "metadata": {},
     "output_type": "execute_result"
    }
   ],
   "source": [
    "C_np = A @ B # numpy  C = A * B\n",
    "C_blas = blas.dgemm(1.0, A, B) # BLAS C = A * B\n",
    "np.linalg.norm(C_np - C_blas)"
   ]
  },
  {
   "cell_type": "code",
   "execution_count": 8,
   "id": "d232f3cb",
   "metadata": {},
   "outputs": [
    {
     "name": "stdout",
     "output_type": "stream",
     "text": [
      "112 ms ± 3.16 ms per loop (mean ± std. dev. of 7 runs, 10 loops each)\n"
     ]
    }
   ],
   "source": [
    "%timeit C_np = np.matmul(A,B) # numpy"
   ]
  },
  {
   "cell_type": "code",
   "execution_count": 9,
   "id": "b4813c43",
   "metadata": {},
   "outputs": [
    {
     "name": "stdout",
     "output_type": "stream",
     "text": [
      "110 ms ± 4.53 ms per loop (mean ± std. dev. of 7 runs, 10 loops each)\n"
     ]
    }
   ],
   "source": [
    "%timeit C_np = A @ B"
   ]
  },
  {
   "cell_type": "code",
   "execution_count": 10,
   "id": "fcb75737",
   "metadata": {},
   "outputs": [
    {
     "name": "stdout",
     "output_type": "stream",
     "text": [
      "105 ms ± 6.31 ms per loop (mean ± std. dev. of 7 runs, 10 loops each)\n"
     ]
    }
   ],
   "source": [
    "%timeit C_blas = blas.dgemm(1.0, A, B) # blas"
   ]
  },
  {
   "cell_type": "code",
   "execution_count": 11,
   "id": "e8581e35",
   "metadata": {},
   "outputs": [],
   "source": [
    "n = 4096\n",
    "A = np.array(np.random.randn(n,n))\n",
    "B = np.array(np.random.randn(n,n))"
   ]
  },
  {
   "cell_type": "code",
   "execution_count": 12,
   "id": "dc5814f8",
   "metadata": {},
   "outputs": [
    {
     "name": "stdout",
     "output_type": "stream",
     "text": [
      "[[  30.15592205  -26.83170904   19.98015931 ...   18.80840001\n",
      "    -2.97181531 -117.00181888]\n",
      " [  76.37609178  -77.84872261   13.07061174 ...  -21.47922237\n",
      "   -11.31987588   21.06175708]\n",
      " [  -6.70296031  -41.18773739   -8.13983656 ...   23.16366639\n",
      "    16.66321951  116.43332744]\n",
      " ...\n",
      " [  58.74466179  -41.41994006   82.20567841 ...  -59.21648623\n",
      "   -63.22758962   -1.37172595]\n",
      " [ -60.12729292  -64.1289711    -0.35486518 ...  -93.11950042\n",
      "    34.55566781  -44.8612514 ]\n",
      " [ -33.56258098  -55.73436905  -77.55786191 ...  142.94651467\n",
      "    75.33365468  125.60432164]]\n"
     ]
    }
   ],
   "source": [
    "C_blas = blas.dgemm(1.0, A, B)\n",
    "print(C_blas)"
   ]
  },
  {
   "cell_type": "code",
   "execution_count": 13,
   "id": "d59f4c5c",
   "metadata": {},
   "outputs": [],
   "source": [
    "def MatrMul(A,B,n):\n",
    "    \n",
    "    result = np.zeros((n,n))\n",
    "    for i in range(n):  \n",
    "        for j in range(n):\n",
    "            for k in range(len(B)):\n",
    "                result[i][j] += A[i][k] * B[k][j]\n",
    "                \n",
    "    return result"
   ]
  },
  {
   "cell_type": "code",
   "execution_count": 14,
   "id": "d3a08af0",
   "metadata": {},
   "outputs": [
    {
     "name": "stdout",
     "output_type": "stream",
     "text": [
      "[[1 1]\n",
      " [1 2]]\n",
      "[[ 2 -1]\n",
      " [ 0  1]]\n",
      "[[2. 0.]\n",
      " [2. 1.]]\n"
     ]
    }
   ],
   "source": [
    "A = np.array([[1,1],[1,2]], order = 'F')\n",
    "B = np.array([[2,-1],[0,1]], order = 'F')\n",
    "C = MatrMul(A,B,2)\n",
    "print(A)\n",
    "print(B)\n",
    "print(C)"
   ]
  },
  {
   "cell_type": "code",
   "execution_count": 15,
   "id": "6b43d2f2",
   "metadata": {},
   "outputs": [],
   "source": [
    "n = 200\n",
    "A = np.array(np.random.randn(n,n), order = 'F')\n",
    "B = np.array(np.random.randn(n,n), order = 'F')\n"
   ]
  },
  {
   "cell_type": "markdown",
   "id": "2b4e37a8",
   "metadata": {},
   "source": [
    "Попробуйте убрать *order = 'F'* и сравните время "
   ]
  },
  {
   "cell_type": "code",
   "execution_count": 16,
   "id": "28317ab4",
   "metadata": {},
   "outputs": [
    {
     "name": "stdout",
     "output_type": "stream",
     "text": [
      "344 µs ± 20 µs per loop (mean ± std. dev. of 7 runs, 1,000 loops each)\n"
     ]
    }
   ],
   "source": [
    "%timeit C_blas = blas.dgemm(1.0, A, B) # blas"
   ]
  },
  {
   "cell_type": "code",
   "execution_count": 18,
   "id": "9f1e92f5",
   "metadata": {},
   "outputs": [
    {
     "ename": "KeyboardInterrupt",
     "evalue": "",
     "output_type": "error",
     "traceback": [
      "\u001b[1;31m---------------------------------------------------------------------------\u001b[0m",
      "\u001b[1;31mKeyboardInterrupt\u001b[0m                         Traceback (most recent call last)",
      "Cell \u001b[1;32mIn[18], line 1\u001b[0m\n\u001b[1;32m----> 1\u001b[0m \u001b[43mget_ipython\u001b[49m\u001b[43m(\u001b[49m\u001b[43m)\u001b[49m\u001b[38;5;241;43m.\u001b[39;49m\u001b[43mrun_line_magic\u001b[49m\u001b[43m(\u001b[49m\u001b[38;5;124;43m'\u001b[39;49m\u001b[38;5;124;43mtimeit\u001b[39;49m\u001b[38;5;124;43m'\u001b[39;49m\u001b[43m,\u001b[49m\u001b[43m \u001b[49m\u001b[38;5;124;43m'\u001b[39;49m\u001b[38;5;124;43mC_our = MatrMul(A,B,n) # our\u001b[39;49m\u001b[38;5;124;43m'\u001b[39;49m\u001b[43m)\u001b[49m\n",
      "File \u001b[1;32m~\\miniconda3\\lib\\site-packages\\IPython\\core\\interactiveshell.py:2454\u001b[0m, in \u001b[0;36mInteractiveShell.run_line_magic\u001b[1;34m(self, magic_name, line, _stack_depth)\u001b[0m\n\u001b[0;32m   2452\u001b[0m     kwargs[\u001b[38;5;124m'\u001b[39m\u001b[38;5;124mlocal_ns\u001b[39m\u001b[38;5;124m'\u001b[39m] \u001b[38;5;241m=\u001b[39m \u001b[38;5;28mself\u001b[39m\u001b[38;5;241m.\u001b[39mget_local_scope(stack_depth)\n\u001b[0;32m   2453\u001b[0m \u001b[38;5;28;01mwith\u001b[39;00m \u001b[38;5;28mself\u001b[39m\u001b[38;5;241m.\u001b[39mbuiltin_trap:\n\u001b[1;32m-> 2454\u001b[0m     result \u001b[38;5;241m=\u001b[39m fn(\u001b[38;5;241m*\u001b[39margs, \u001b[38;5;241m*\u001b[39m\u001b[38;5;241m*\u001b[39mkwargs)\n\u001b[0;32m   2456\u001b[0m \u001b[38;5;66;03m# The code below prevents the output from being displayed\u001b[39;00m\n\u001b[0;32m   2457\u001b[0m \u001b[38;5;66;03m# when using magics with decorator @output_can_be_silenced\u001b[39;00m\n\u001b[0;32m   2458\u001b[0m \u001b[38;5;66;03m# when the last Python token in the expression is a ';'.\u001b[39;00m\n\u001b[0;32m   2459\u001b[0m \u001b[38;5;28;01mif\u001b[39;00m \u001b[38;5;28mgetattr\u001b[39m(fn, magic\u001b[38;5;241m.\u001b[39mMAGIC_OUTPUT_CAN_BE_SILENCED, \u001b[38;5;28;01mFalse\u001b[39;00m):\n",
      "File \u001b[1;32m~\\miniconda3\\lib\\site-packages\\IPython\\core\\magics\\execution.py:1189\u001b[0m, in \u001b[0;36mExecutionMagics.timeit\u001b[1;34m(self, line, cell, local_ns)\u001b[0m\n\u001b[0;32m   1186\u001b[0m         \u001b[38;5;28;01mif\u001b[39;00m time_number \u001b[38;5;241m>\u001b[39m\u001b[38;5;241m=\u001b[39m \u001b[38;5;241m0.2\u001b[39m:\n\u001b[0;32m   1187\u001b[0m             \u001b[38;5;28;01mbreak\u001b[39;00m\n\u001b[1;32m-> 1189\u001b[0m all_runs \u001b[38;5;241m=\u001b[39m \u001b[43mtimer\u001b[49m\u001b[38;5;241;43m.\u001b[39;49m\u001b[43mrepeat\u001b[49m\u001b[43m(\u001b[49m\u001b[43mrepeat\u001b[49m\u001b[43m,\u001b[49m\u001b[43m \u001b[49m\u001b[43mnumber\u001b[49m\u001b[43m)\u001b[49m\n\u001b[0;32m   1190\u001b[0m best \u001b[38;5;241m=\u001b[39m \u001b[38;5;28mmin\u001b[39m(all_runs) \u001b[38;5;241m/\u001b[39m number\n\u001b[0;32m   1191\u001b[0m worst \u001b[38;5;241m=\u001b[39m \u001b[38;5;28mmax\u001b[39m(all_runs) \u001b[38;5;241m/\u001b[39m number\n",
      "File \u001b[1;32m~\\miniconda3\\lib\\timeit.py:206\u001b[0m, in \u001b[0;36mTimer.repeat\u001b[1;34m(self, repeat, number)\u001b[0m\n\u001b[0;32m    204\u001b[0m r \u001b[38;5;241m=\u001b[39m []\n\u001b[0;32m    205\u001b[0m \u001b[38;5;28;01mfor\u001b[39;00m i \u001b[38;5;129;01min\u001b[39;00m \u001b[38;5;28mrange\u001b[39m(repeat):\n\u001b[1;32m--> 206\u001b[0m     t \u001b[38;5;241m=\u001b[39m \u001b[38;5;28;43mself\u001b[39;49m\u001b[38;5;241;43m.\u001b[39;49m\u001b[43mtimeit\u001b[49m\u001b[43m(\u001b[49m\u001b[43mnumber\u001b[49m\u001b[43m)\u001b[49m\n\u001b[0;32m    207\u001b[0m     r\u001b[38;5;241m.\u001b[39mappend(t)\n\u001b[0;32m    208\u001b[0m \u001b[38;5;28;01mreturn\u001b[39;00m r\n",
      "File \u001b[1;32m~\\miniconda3\\lib\\site-packages\\IPython\\core\\magics\\execution.py:173\u001b[0m, in \u001b[0;36mTimer.timeit\u001b[1;34m(self, number)\u001b[0m\n\u001b[0;32m    171\u001b[0m gc\u001b[38;5;241m.\u001b[39mdisable()\n\u001b[0;32m    172\u001b[0m \u001b[38;5;28;01mtry\u001b[39;00m:\n\u001b[1;32m--> 173\u001b[0m     timing \u001b[38;5;241m=\u001b[39m \u001b[38;5;28;43mself\u001b[39;49m\u001b[38;5;241;43m.\u001b[39;49m\u001b[43minner\u001b[49m\u001b[43m(\u001b[49m\u001b[43mit\u001b[49m\u001b[43m,\u001b[49m\u001b[43m \u001b[49m\u001b[38;5;28;43mself\u001b[39;49m\u001b[38;5;241;43m.\u001b[39;49m\u001b[43mtimer\u001b[49m\u001b[43m)\u001b[49m\n\u001b[0;32m    174\u001b[0m \u001b[38;5;28;01mfinally\u001b[39;00m:\n\u001b[0;32m    175\u001b[0m     \u001b[38;5;28;01mif\u001b[39;00m gcold:\n",
      "File \u001b[1;32m<magic-timeit>:1\u001b[0m, in \u001b[0;36minner\u001b[1;34m(_it, _timer)\u001b[0m\n",
      "Cell \u001b[1;32mIn[13], line 7\u001b[0m, in \u001b[0;36mMatrMul\u001b[1;34m(A, B, n)\u001b[0m\n\u001b[0;32m      5\u001b[0m     \u001b[38;5;28;01mfor\u001b[39;00m j \u001b[38;5;129;01min\u001b[39;00m \u001b[38;5;28mrange\u001b[39m(n):\n\u001b[0;32m      6\u001b[0m         \u001b[38;5;28;01mfor\u001b[39;00m k \u001b[38;5;129;01min\u001b[39;00m \u001b[38;5;28mrange\u001b[39m(\u001b[38;5;28mlen\u001b[39m(B)):\n\u001b[1;32m----> 7\u001b[0m             result[i][j] \u001b[38;5;241m+\u001b[39m\u001b[38;5;241m=\u001b[39m A[i][k] \u001b[38;5;241m*\u001b[39m B[k][j]\n\u001b[0;32m      9\u001b[0m \u001b[38;5;28;01mreturn\u001b[39;00m result\n",
      "\u001b[1;31mKeyboardInterrupt\u001b[0m: "
     ]
    }
   ],
   "source": [
    "%timeit C_our = MatrMul(A,B,n) # our"
   ]
  },
  {
   "cell_type": "markdown",
   "id": "0d05a4b2",
   "metadata": {},
   "source": [
    "**Названия функций в BLAS и LAPACK**\n",
    "\n",
    "blas.<точность><имя><объкты>\n",
    "\n",
    "<точность>:\n",
    "\n",
    "s: single precision float\n",
    "\n",
    "d: double precision float\n",
    "\n",
    "c: single precision complex float\n",
    "\n",
    "z: double precision complex float\n",
    "\n",
    "\n",
    "<имя> - тип операции или матрицы \n",
    "\n",
    "<объкты> - используемые объекты или информация об операции\n",
    "\n",
    "Пример:\n",
    "dgemm = d + ge + mm \n",
    "d - double precision, ge - general matrix, mm - matrix multiplication"
   ]
  },
  {
   "cell_type": "markdown",
   "id": "5715b67b",
   "metadata": {},
   "source": [
    "# BLAS Level 1"
   ]
  },
  {
   "cell_type": "markdown",
   "id": "f3d501fd",
   "metadata": {},
   "source": [
    "Операции вектор-вектор, число-вектор\n",
    "\n",
    "**_axpy** - операция вычисления *ax + y* (x,y - векторы, a - скаляр)\n",
    "\n",
    "**_dot** - скалярное произведение\n",
    "\n",
    "**_nrm2** - евклидова норма"
   ]
  },
  {
   "cell_type": "markdown",
   "id": "e831814b",
   "metadata": {},
   "source": [
    "## _axpy"
   ]
  },
  {
   "cell_type": "code",
   "execution_count": 50,
   "id": "14a9685f",
   "metadata": {},
   "outputs": [
    {
     "data": {
      "text/plain": [
       "0.0"
      ]
     },
     "execution_count": 50,
     "metadata": {},
     "output_type": "execute_result"
    }
   ],
   "source": [
    "n = 1000\n",
    "x = np.random.rand(n)\n",
    "y = np.random.rand(n)\n",
    "\n",
    "z = blas.daxpy(x, y, a=1.0)\n",
    "xx = blas.ddot(x, x)\n",
    "x2 = blas.dnrm2(x)\n",
    "np.sqrt(xx) - x2"
   ]
  },
  {
   "cell_type": "code",
   "execution_count": 30,
   "id": "bf16de7c",
   "metadata": {},
   "outputs": [
    {
     "name": "stdout",
     "output_type": "stream",
     "text": [
      "[2. 3. 4.]\n"
     ]
    }
   ],
   "source": [
    "x = np.array([1,2,3])\n",
    "y = np.array([1,1,1])    \n",
    "z = blas.daxpy(x, y, a=1.0)\n",
    "print(z)"
   ]
  },
  {
   "cell_type": "code",
   "execution_count": 31,
   "id": "dc34ebac",
   "metadata": {},
   "outputs": [
    {
     "data": {
      "text/plain": [
       "array([2, 3, 4])"
      ]
     },
     "execution_count": 31,
     "metadata": {},
     "output_type": "execute_result"
    }
   ],
   "source": [
    "x + y"
   ]
  },
  {
   "cell_type": "code",
   "execution_count": 32,
   "id": "c3539aa8",
   "metadata": {},
   "outputs": [
    {
     "name": "stdout",
     "output_type": "stream",
     "text": [
      "[[3.]\n",
      " [5.]\n",
      " [7.]]\n"
     ]
    }
   ],
   "source": [
    "x = np.array([1,2,3])\n",
    "y = np.array([[1],[1],[1]])    \n",
    "z = blas.daxpy(x, y, a=2.0)\n",
    "print(z)"
   ]
  },
  {
   "cell_type": "code",
   "execution_count": 33,
   "id": "52919662",
   "metadata": {},
   "outputs": [
    {
     "data": {
      "text/plain": [
       "array([[2, 3, 4],\n",
       "       [2, 3, 4],\n",
       "       [2, 3, 4]])"
      ]
     },
     "execution_count": 33,
     "metadata": {},
     "output_type": "execute_result"
    }
   ],
   "source": [
    "x + y"
   ]
  },
  {
   "cell_type": "code",
   "execution_count": 34,
   "id": "4af357ee",
   "metadata": {},
   "outputs": [
    {
     "name": "stdout",
     "output_type": "stream",
     "text": [
      "[2. 4. 6.]\n",
      "[[ 2.  4.  6.]\n",
      " [-1. -2. -3.]]\n"
     ]
    }
   ],
   "source": [
    "x = np.array([[1,2,3],[-1,-2,-3.0]]) # bag, look at the print(x)\n",
    "y = blas.dscal(2.0,x[0])\n",
    "print(y)\n",
    "print(x)"
   ]
  },
  {
   "cell_type": "code",
   "execution_count": 129,
   "id": "16387ebd",
   "metadata": {},
   "outputs": [
    {
     "name": "stdout",
     "output_type": "stream",
     "text": [
      "[2. 4. 6.]\n",
      "[[ 1  2  3]\n",
      " [-1 -2 -3]]\n"
     ]
    }
   ],
   "source": [
    "x = np.array([[1,2,3],[-1,-2,-3]]) # bag, look at the print(x)\n",
    "y = blas.dscal(2,x[0])\n",
    "print(y)\n",
    "print(x)"
   ]
  },
  {
   "cell_type": "code",
   "execution_count": 155,
   "id": "b55e8048",
   "metadata": {},
   "outputs": [
    {
     "name": "stdout",
     "output_type": "stream",
     "text": [
      "[2.2 4.4 6. ]\n",
      "[[1.1, 2.2, 3], [-1, -2.0, -3.0]]\n"
     ]
    }
   ],
   "source": [
    "x = [[1.1,2.2,3],[-1,-2.0,-3.0]]\n",
    "y = blas.dscal(2,x[0])\n",
    "print(y)\n",
    "print(x)"
   ]
  },
  {
   "cell_type": "markdown",
   "id": "5b75564e",
   "metadata": {},
   "source": [
    "## _dot"
   ]
  },
  {
   "cell_type": "code",
   "execution_count": 35,
   "id": "362d40f6",
   "metadata": {},
   "outputs": [
    {
     "name": "stdout",
     "output_type": "stream",
     "text": [
      "7.0\n"
     ]
    }
   ],
   "source": [
    "x = np.array([1,2,3]) #try  [[1],[2],[3]]\n",
    "y = np.array([[2],[1],[1]]) #try  [[2],[1],[1]]   \n",
    "z = blas.ddot(x, y)\n",
    "print(z)"
   ]
  },
  {
   "cell_type": "code",
   "execution_count": 40,
   "id": "cb1732cb",
   "metadata": {},
   "outputs": [
    {
     "name": "stdout",
     "output_type": "stream",
     "text": [
      "7.0\n"
     ]
    }
   ],
   "source": [
    "x = np.array([1,2,3]) #try  [[1],[2],[3]]\n",
    "y = np.array([[2],[1],[1]]) #try  [[2],[1],[1]]   \n",
    "z = blas.ddot(x, y)\n",
    "print(z)"
   ]
  },
  {
   "cell_type": "markdown",
   "id": "cb227567",
   "metadata": {},
   "source": [
    "https://numpy.org/doc/stable/reference/generated/numpy.dot.html"
   ]
  },
  {
   "cell_type": "code",
   "execution_count": 41,
   "id": "2e8fabcc",
   "metadata": {},
   "outputs": [
    {
     "name": "stdout",
     "output_type": "stream",
     "text": [
      "[7]\n"
     ]
    }
   ],
   "source": [
    "z = np.dot(x, y)\n",
    "print(z)"
   ]
  },
  {
   "cell_type": "code",
   "execution_count": 77,
   "id": "76d77eea",
   "metadata": {},
   "outputs": [],
   "source": [
    "n = 5000\n",
    "x = np.random.rand(n)\n",
    "y = np.random.rand(n)"
   ]
  },
  {
   "cell_type": "code",
   "execution_count": 78,
   "id": "ce0c82fb",
   "metadata": {},
   "outputs": [
    {
     "name": "stdout",
     "output_type": "stream",
     "text": [
      "1.77 µs ± 35.1 ns per loop (mean ± std. dev. of 7 runs, 1000000 loops each)\n"
     ]
    }
   ],
   "source": [
    "%timeit z = blas.ddot(x, y)"
   ]
  },
  {
   "cell_type": "code",
   "execution_count": 79,
   "id": "a7609391",
   "metadata": {},
   "outputs": [
    {
     "name": "stdout",
     "output_type": "stream",
     "text": [
      "3.6 µs ± 186 ns per loop (mean ± std. dev. of 7 runs, 100000 loops each)\n"
     ]
    }
   ],
   "source": [
    "%timeit z = np.dot(x, y)"
   ]
  },
  {
   "cell_type": "code",
   "execution_count": 80,
   "id": "4c913266",
   "metadata": {},
   "outputs": [
    {
     "name": "stdout",
     "output_type": "stream",
     "text": [
      "3.5 µs ± 261 ns per loop (mean ± std. dev. of 7 runs, 100000 loops each)\n"
     ]
    }
   ],
   "source": [
    "%timeit z = np.vdot(x, y)"
   ]
  },
  {
   "cell_type": "markdown",
   "id": "273b0d38",
   "metadata": {},
   "source": [
    "Обратите внимание на разницу *cdotu* и *cdotc* в документации"
   ]
  },
  {
   "cell_type": "markdown",
   "id": "2437ac41",
   "metadata": {},
   "source": [
    "## _nrm2"
   ]
  },
  {
   "cell_type": "code",
   "execution_count": 89,
   "id": "55186986",
   "metadata": {},
   "outputs": [
    {
     "name": "stdout",
     "output_type": "stream",
     "text": [
      "3.0\n"
     ]
    }
   ],
   "source": [
    "x = np.array([2,-2,1])  #try [[2],[-2],[1]]\n",
    "\n",
    "xn = blas.dnrm2(x)\n",
    "print(xn)"
   ]
  },
  {
   "cell_type": "markdown",
   "id": "8de34cb8",
   "metadata": {},
   "source": [
    "numpy.linalg.norm\n",
    "\n",
    "https://numpy.org/doc/stable/reference/generated/numpy.linalg.norm.html   \n",
    "\n",
    "scipy.linangl\n",
    "\n",
    "https://docs.scipy.org/doc/scipy/reference/linalg.html"
   ]
  },
  {
   "cell_type": "code",
   "execution_count": 90,
   "id": "cca9a883",
   "metadata": {},
   "outputs": [
    {
     "name": "stdout",
     "output_type": "stream",
     "text": [
      "5.0\n",
      "5.0\n"
     ]
    }
   ],
   "source": [
    "xn = sp.linalg.norm(x,1)\n",
    "print(xn)\n",
    "xn = np.linalg.norm(x,1)\n",
    "print(xn)"
   ]
  },
  {
   "cell_type": "code",
   "execution_count": 95,
   "id": "579162e2",
   "metadata": {},
   "outputs": [],
   "source": [
    "n = 3000\n",
    "x = np.random.rand(n)"
   ]
  },
  {
   "cell_type": "code",
   "execution_count": 92,
   "id": "fbcddfa9",
   "metadata": {},
   "outputs": [
    {
     "name": "stdout",
     "output_type": "stream",
     "text": [
      "1.15 µs ± 31.6 ns per loop (mean ± std. dev. of 7 runs, 1000000 loops each)\n"
     ]
    }
   ],
   "source": [
    "%timeit xn = blas.dnrm2(x)"
   ]
  },
  {
   "cell_type": "code",
   "execution_count": 96,
   "id": "bd74b20f",
   "metadata": {},
   "outputs": [
    {
     "name": "stdout",
     "output_type": "stream",
     "text": [
      "7.03 µs ± 192 ns per loop (mean ± std. dev. of 7 runs, 100000 loops each)\n"
     ]
    }
   ],
   "source": [
    "%timeit xn = sp.linalg.norm(x)"
   ]
  },
  {
   "cell_type": "code",
   "execution_count": 97,
   "id": "0b6e9dca",
   "metadata": {},
   "outputs": [
    {
     "name": "stdout",
     "output_type": "stream",
     "text": [
      "5.03 µs ± 172 ns per loop (mean ± std. dev. of 7 runs, 100000 loops each)\n"
     ]
    }
   ],
   "source": [
    "%timeit xn = np.linalg.norm(x)"
   ]
  },
  {
   "cell_type": "markdown",
   "id": "bb1865cd",
   "metadata": {},
   "source": [
    "# BLAS Level 2"
   ]
  },
  {
   "cell_type": "markdown",
   "id": "992f1382",
   "metadata": {},
   "source": [
    "Операции матрица-вектор\n",
    "\n",
    "**_gemv** - умножение матрицы на вектор и скаляр:  *aAx* (a - скаляр, A - матрица, x - вектор)\n",
    "\n",
    "**_trmv** - умножение треугольной матрицы на вектор: *Lx*\n",
    "\n",
    "**_trsv** - решение СЛАУ с нижней треугольной матрицей: *inv(L)x*\n",
    "\n"
   ]
  },
  {
   "cell_type": "markdown",
   "id": "51f3361a",
   "metadata": {},
   "source": [
    "## _gemv"
   ]
  },
  {
   "cell_type": "code",
   "execution_count": 161,
   "id": "56ec6c86",
   "metadata": {
    "scrolled": true
   },
   "outputs": [
    {
     "name": "stdout",
     "output_type": "stream",
     "text": [
      "[-2. 16.]\n"
     ]
    }
   ],
   "source": [
    "x = np.array([2,1])  # try [[2],[1]]\n",
    "A = np.array([[-1,1],[3,2]])\n",
    "alfa = 2.0\n",
    "\n",
    "y = blas.dgemv(alfa,A,x)\n",
    "print(y)"
   ]
  },
  {
   "cell_type": "markdown",
   "id": "7f7bbb39",
   "metadata": {},
   "source": [
    "## _trmv"
   ]
  },
  {
   "cell_type": "code",
   "execution_count": 160,
   "id": "f8e0ae81",
   "metadata": {},
   "outputs": [
    {
     "name": "stdout",
     "output_type": "stream",
     "text": [
      "[[1.]\n",
      " [2.]]\n"
     ]
    }
   ],
   "source": [
    "x = np.array([2,1])  # try [[2],[1]]\n",
    "A = np.array([[-1,3],[1,2]])\n",
    "\n",
    "y = blas.dtrmv(A,x, lower = 0)\n",
    "print(y)"
   ]
  },
  {
   "cell_type": "markdown",
   "id": "7a4c94fa",
   "metadata": {},
   "source": [
    "## _trsv"
   ]
  },
  {
   "cell_type": "code",
   "execution_count": 173,
   "id": "0cd21aa0",
   "metadata": {},
   "outputs": [
    {
     "name": "stdout",
     "output_type": "stream",
     "text": [
      "[-0.5  0.5]\n"
     ]
    }
   ],
   "source": [
    "x = np.array([2,1])  # try [[2],[1]]\n",
    "A = np.array([[-1,3],[1,2]])\n",
    "\n",
    "y = blas.dtrsv(A,x, lower = 0)\n",
    "print(y)"
   ]
  },
  {
   "cell_type": "code",
   "execution_count": 180,
   "id": "92fe4986",
   "metadata": {},
   "outputs": [
    {
     "name": "stdout",
     "output_type": "stream",
     "text": [
      "[1. 2. 3.]\n"
     ]
    }
   ],
   "source": [
    "A = np.array([[1,2,-1.0],[-4,1,2],[3,2,-3]])\n",
    "b = np.array([2,4,-2])\n",
    "x = sp.linalg.solve(A, b)\n",
    "print(x)"
   ]
  },
  {
   "cell_type": "code",
   "execution_count": 176,
   "id": "6716491d",
   "metadata": {},
   "outputs": [],
   "source": [
    "n = 100\n",
    "A = np.array(np.random.randn(n,n), order = 'F')\n",
    "b = np.array(np.random.randn(n))\n",
    "x = sp.linalg.solve(A, b)"
   ]
  },
  {
   "cell_type": "code",
   "execution_count": 177,
   "id": "1b879115",
   "metadata": {},
   "outputs": [
    {
     "name": "stdout",
     "output_type": "stream",
     "text": [
      "127 µs ± 1.47 µs per loop (mean ± std. dev. of 7 runs, 10000 loops each)\n"
     ]
    }
   ],
   "source": [
    "%timeit x = sp.linalg.solve(A, b)"
   ]
  },
  {
   "cell_type": "markdown",
   "id": "82cda012",
   "metadata": {},
   "source": [
    "# BLAS Level 3"
   ]
  },
  {
   "cell_type": "markdown",
   "id": "a219c6a4",
   "metadata": {},
   "source": [
    "Операции матрица-матрица\n",
    "\n",
    "_gemm - умножение матрицы на матрицу общего вида: \n",
    "\n",
    "   C := alpha*op( A )*op( B ) + beta*C\n",
    "\n"
   ]
  },
  {
   "cell_type": "code",
   "execution_count": 44,
   "id": "9efa1f24",
   "metadata": {},
   "outputs": [
    {
     "name": "stdout",
     "output_type": "stream",
     "text": [
      "[[ 8.  8.]\n",
      " [20. 14.]]\n"
     ]
    }
   ],
   "source": [
    "A = np.array([[1,2,3],[4,5,6]], order = 'F')\n",
    "B = np.array([[1,-1],[0,1],[1,1]], order = 'F')\n",
    "a = 2\n",
    "\n",
    "C = blas.dgemm(a,A,B)\n",
    "print(C)"
   ]
  },
  {
   "cell_type": "code",
   "execution_count": null,
   "id": "d109cb9c",
   "metadata": {},
   "outputs": [],
   "source": []
  }
 ],
 "metadata": {
  "kernelspec": {
   "display_name": "Python 3 (ipykernel)",
   "language": "python",
   "name": "python3"
  },
  "language_info": {
   "codemirror_mode": {
    "name": "ipython",
    "version": 3
   },
   "file_extension": ".py",
   "mimetype": "text/x-python",
   "name": "python",
   "nbconvert_exporter": "python",
   "pygments_lexer": "ipython3",
   "version": "3.10.10"
  }
 },
 "nbformat": 4,
 "nbformat_minor": 5
}
