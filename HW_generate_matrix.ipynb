{
 "cells": [
  {
   "cell_type": "code",
   "execution_count": 59,
   "id": "eb686909",
   "metadata": {},
   "outputs": [],
   "source": [
    "from tabulate import tabulate\n",
    "import random"
   ]
  },
  {
   "cell_type": "code",
   "execution_count": 60,
   "id": "e21734ef",
   "metadata": {},
   "outputs": [],
   "source": [
    "rows = 5\n",
    "cols = 6"
   ]
  },
  {
   "cell_type": "code",
   "execution_count": 61,
   "id": "f6e206aa",
   "metadata": {},
   "outputs": [],
   "source": [
    "def print_matrix(matrix):\n",
    "    print(tabulate(matrix, tablefmt=\"fancy_grid\"))"
   ]
  },
  {
   "cell_type": "code",
   "execution_count": 62,
   "id": "bd416735-78e3-4a5c-96c3-61d7d599cfef",
   "metadata": {},
   "outputs": [],
   "source": [
    "def random_matrix(rows, cols):\n",
    "    matrix = []\n",
    "    for i in range(rows):\n",
    "        row = []\n",
    "        for j in range(cols):\n",
    "            row.append(random())\n",
    "        matrix.append(row)\n",
    "    return matrix"
   ]
  },
  {
   "cell_type": "code",
   "execution_count": 21,
   "id": "bbebc3dc-0524-46b1-b9c0-e0d9e8ede616",
   "metadata": {},
   "outputs": [],
   "source": [
    "def square_matrix(rows):\n",
    "    matrix = []\n",
    "    for i in range(rows):\n",
    "        row = []\n",
    "        for j in range(rows):\n",
    "            row.append(random.randint(1, 100))\n",
    "        matrix.append(row)\n",
    "    return matrix"
   ]
  },
  {
   "cell_type": "code",
   "execution_count": 31,
   "id": "1b1957f5-eb17-47fa-9d4a-3b93033ff75f",
   "metadata": {},
   "outputs": [],
   "source": [
    "def upper_trian_matrix(rows, cols):\n",
    "    matrix = []\n",
    "    for i in range(rows):\n",
    "        row = [random.randint(1, 100) if j >= i else 0 for j in range(cols)]\n",
    "        matrix.append(row)\n",
    "    return matrix"
   ]
  },
  {
   "cell_type": "code",
   "execution_count": 43,
   "id": "0f8e44ca-8ea7-4625-b8ee-61c8ee8a9e0d",
   "metadata": {},
   "outputs": [],
   "source": [
    "def lower_trian_matrix(rows, cols):\n",
    "    matrix = []\n",
    "    for i in range(rows):\n",
    "        row = [random.randint(1, 100) if j <= i else 0 for j in range(cols)]\n",
    "        matrix.append(row)\n",
    "    return matrix"
   ]
  },
  {
   "cell_type": "code",
   "execution_count": 44,
   "id": "ba91b01e-b421-4321-8880-6287a2f332de",
   "metadata": {},
   "outputs": [],
   "source": [
    "def diag_matrix(rows, cols):\n",
    "    matrix = []\n",
    "    for i in range(rows):\n",
    "        row = [random.randint(1, 100) if j == i else 0 for j in range(cols)]\n",
    "        matrix.append(row)\n",
    "    return matrix"
   ]
  },
  {
   "cell_type": "code",
   "execution_count": 50,
   "id": "2e457947-aad6-4b8f-bd26-24744b743ef7",
   "metadata": {},
   "outputs": [],
   "source": [
    "def diag_prev_matrix(rows, cols):\n",
    "    matrix = []\n",
    "    for i in range(rows):\n",
    "        row = []\n",
    "        for j in range(cols):\n",
    "            row.append(random.randint(1, 100))\n",
    "        matrix.append(row)\n",
    "\n",
    "        if i == j:\n",
    "            matrix[i][j] = matrix[i][j] * random.randint(1000, 10000000)\n",
    "    return matrix"
   ]
  },
  {
   "cell_type": "code",
   "execution_count": 63,
   "id": "5f4129fa",
   "metadata": {},
   "outputs": [
    {
     "ename": "TypeError",
     "evalue": "'module' object is not callable",
     "output_type": "error",
     "traceback": [
      "\u001b[1;31m---------------------------------------------------------------------------\u001b[0m",
      "\u001b[1;31mTypeError\u001b[0m                                 Traceback (most recent call last)",
      "Cell \u001b[1;32mIn[63], line 1\u001b[0m\n\u001b[1;32m----> 1\u001b[0m RAND \u001b[38;5;241m=\u001b[39m \u001b[43mrandom_matrix\u001b[49m\u001b[43m(\u001b[49m\u001b[43mrows\u001b[49m\u001b[43m,\u001b[49m\u001b[43m \u001b[49m\u001b[43mcols\u001b[49m\u001b[43m)\u001b[49m\n\u001b[0;32m      2\u001b[0m SQU \u001b[38;5;241m=\u001b[39m square_matrix(rows)\n\u001b[0;32m      3\u001b[0m UTR \u001b[38;5;241m=\u001b[39m upper_trian_matrix(rows, cols)\n",
      "Cell \u001b[1;32mIn[62], line 6\u001b[0m, in \u001b[0;36mrandom_matrix\u001b[1;34m(rows, cols)\u001b[0m\n\u001b[0;32m      4\u001b[0m     row \u001b[38;5;241m=\u001b[39m []\n\u001b[0;32m      5\u001b[0m     \u001b[38;5;28;01mfor\u001b[39;00m j \u001b[38;5;129;01min\u001b[39;00m \u001b[38;5;28mrange\u001b[39m(cols):\n\u001b[1;32m----> 6\u001b[0m         row\u001b[38;5;241m.\u001b[39mappend(\u001b[43mrandom\u001b[49m\u001b[43m(\u001b[49m\u001b[43m)\u001b[49m)\n\u001b[0;32m      7\u001b[0m     matrix\u001b[38;5;241m.\u001b[39mappend(row)\n\u001b[0;32m      8\u001b[0m \u001b[38;5;28;01mreturn\u001b[39;00m matrix\n",
      "\u001b[1;31mTypeError\u001b[0m: 'module' object is not callable"
     ]
    }
   ],
   "source": [
    "RAND = random_matrix(rows, cols)\n",
    "SQU = square_matrix(rows)\n",
    "UTR = upper_trian_matrix(rows, cols)\n",
    "LTR = lower_trian_matrix(rows, cols)\n",
    "DIAG = diag_matrix(rows, cols)\n",
    "DPREV = diag_prev_matrix(rows, cols)\n",
    "\n",
    "\n",
    "print_matrix(RAND)\n",
    "#print_matrix(SQU)\n",
    "#print_matrix(UTR)\n",
    "#print_matrix(DTR)\n",
    "#print_matrix(DIAG)\n",
    "#print_matrix(DPREV)"
   ]
  },
  {
   "cell_type": "code",
   "execution_count": null,
   "id": "47eec99b-ddf1-4f23-935a-577abc6e7d0f",
   "metadata": {},
   "outputs": [],
   "source": []
  },
  {
   "cell_type": "code",
   "execution_count": null,
   "id": "e53aa5a1-1b1a-41f2-a054-167a4cbcabaf",
   "metadata": {},
   "outputs": [],
   "source": []
  }
 ],
 "metadata": {
  "kernelspec": {
   "display_name": "Python 3 (ipykernel)",
   "language": "python",
   "name": "python3"
  },
  "language_info": {
   "codemirror_mode": {
    "name": "ipython",
    "version": 3
   },
   "file_extension": ".py",
   "mimetype": "text/x-python",
   "name": "python",
   "nbconvert_exporter": "python",
   "pygments_lexer": "ipython3",
   "version": "3.10.10"
  }
 },
 "nbformat": 4,
 "nbformat_minor": 5
}
