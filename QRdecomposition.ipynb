{
 "cells": [
  {
   "cell_type": "code",
   "execution_count": 9,
   "id": "3ff56ea6",
   "metadata": {},
   "outputs": [],
   "source": [
    "import numpy as np\n",
    "import scipy.linalg as sla"
   ]
  },
  {
   "cell_type": "code",
   "execution_count": 10,
   "id": "3f558d58",
   "metadata": {},
   "outputs": [
    {
     "name": "stdout",
     "output_type": "stream",
     "text": [
      "[[ 1  3  2  0]\n",
      " [ 0 -1 -1  0]\n",
      " [ 2  2  1  1]\n",
      " [-1  1  3  4]]\n",
      "[[ 1]\n",
      " [ 0]\n",
      " [ 2]\n",
      " [-1]]\n"
     ]
    }
   ],
   "source": [
    "#A = np.array([[1, 3, 2, 0], [0, -1, -1, 0], [2, 2, 1, 1], [-1, 1, 3, 4],[-4, 0, 1, -2],[0, -1, -2, 5]])\n",
    "A = np.array([[1, 3, 2, 0], [0, -1, -1, 0], [2, 2, 1, 1], [-1, 1, 3, 4]])\n",
    "print(A)\n",
    "# Slice out the columns of A for processing\n",
    "A_1 = A[:,0:1]\n",
    "A_2 = A[:,1:2]\n",
    "A_3 = A[:,2:3]\n",
    "A_4 = A[:,3:4]\n",
    "print(A[:,0:1])"
   ]
  },
  {
   "cell_type": "code",
   "execution_count": 11,
   "id": "41b0d64f",
   "metadata": {},
   "outputs": [
    {
     "name": "stdout",
     "output_type": "stream",
     "text": [
      "Q\n",
      "[[ 0.408  0.667 -0.519  0.346]\n",
      " [ 0.    -0.333  0.189  0.924]\n",
      " [ 0.816 -0.     0.566 -0.115]\n",
      " [-0.408  0.667  0.613  0.115]] \n",
      "\n",
      "QTQ\n",
      "[[ 1. -0.  0.  0.]\n",
      " [-0.  1.  0. -0.]\n",
      " [ 0.  0.  1. -0.]\n",
      " [ 0. -0. -0.  1.]] \n",
      "\n",
      "Q\n",
      "[[ 4.08248290e-01  6.66666667e-01 -5.18544973e-01  3.46410162e-01]\n",
      " [ 0.00000000e+00 -3.33333333e-01  1.88561808e-01  9.23760431e-01]\n",
      " [ 8.16496581e-01 -1.48029737e-16  5.65685425e-01 -1.15470054e-01]\n",
      " [-4.08248290e-01  6.66666667e-01  6.12825877e-01  1.15470054e-01]] \n",
      "\n",
      "R\n",
      "[[ 2.44948974  2.44948974  0.40824829 -0.81649658]\n",
      " [-0.          3.          3.66666667  2.66666667]\n",
      " [ 0.          0.          1.1785113   3.01698893]\n",
      " [ 0.         -0.         -0.          0.34641016]] \n",
      "\n",
      "QR\n",
      "[[ 1.  3.  2. -0.]\n",
      " [ 0. -1. -1. -0.]\n",
      " [ 2.  2.  1.  1.]\n",
      " [-1.  1.  3.  4.]]\n"
     ]
    }
   ],
   "source": [
    "# Carry out Gram-Schmidt process\n",
    "U_1 = A_1/sla.norm(A_1)\n",
    "W_2 = A_2 - np.dot(np.transpose(A_2),U_1)*U_1\n",
    "U_2 = W_2/sla.norm(W_2)\n",
    "W_3 = A_3 - np.dot(np.transpose(A_3),U_1)*U_1 - np.dot(np.transpose(A_3),U_2)*U_2\n",
    "U_3 = W_3/sla.norm(W_3)\n",
    "W_4 = A_4 - np.dot(np.transpose(A_4),U_1)*U_1 - np.dot(np.transpose(A_4),U_2)*U_2 - np.dot(np.transpose(A_4),U_3)*U_3\n",
    "U_4 = W_4/sla.norm(W_4)\n",
    "\n",
    "# Assemble the matrix Q\n",
    "\n",
    "Q = np.hstack((U_1,U_2,U_3,U_4))\n",
    "print(\"Q\")\n",
    "print(np.round(Q,3),'\\n')\n",
    "\n",
    "# Check that Q is orthogonal\n",
    "\n",
    "print(\"QTQ\")\n",
    "print(np.round(Q.transpose()@Q),'\\n')\n",
    "\n",
    "# Compute R\n",
    "\n",
    "R = Q.transpose()@A\n",
    "\n",
    "#  Check\n",
    "\n",
    "print(\"Q\")\n",
    "print(Q,'\\n')\n",
    "print(\"R\")\n",
    "print(np.round(R,8),'\\n')\n",
    "print(\"QR\")\n",
    "print(np.round(Q@R))"
   ]
  },
  {
   "cell_type": "code",
   "execution_count": 12,
   "id": "90aa5086",
   "metadata": {},
   "outputs": [],
   "source": [
    "def QRFactorization(A):\n",
    "    \n",
    "\n",
    "    # Check shape of A\n",
    "    if (A.shape[0] < A.shape[1]):\n",
    "        print(\"A must have more rows than columns for QR factorization.\")\n",
    "        return\n",
    "\n",
    "    m = A.shape[0]\n",
    "    n = A.shape[1]\n",
    "    \n",
    "    Q = np.zeros((m,n))\n",
    "    R = np.zeros((n,n))\n",
    "    \n",
    "    for i in range(n):\n",
    "        W = A[:,i:i+1]\n",
    "        for j in range(i):\n",
    "                W = W - np.dot(np.transpose(A[:,i:i+1]),Q[:,j:j+1])*Q[:,j:j+1]\n",
    "                # записать scalar в матрицу R\n",
    "        Q[:,i:i+1] = W/sla.norm(W)\n",
    "        \n",
    "    R = Q.transpose()@A\n",
    "    \n",
    "    return (Q,R)"
   ]
  },
  {
   "cell_type": "code",
   "execution_count": 13,
   "id": "7082f9df",
   "metadata": {},
   "outputs": [],
   "source": [
    "def QRFactorization2(A):\n",
    "    \n",
    "\n",
    "    # Check shape of A\n",
    "    if (A.shape[0] < A.shape[1]):\n",
    "        print(\"A must have more rows than columns for QR factorization.\")\n",
    "        return\n",
    "\n",
    "    m = A.shape[0]\n",
    "    n = A.shape[1]\n",
    "    \n",
    "    Q = np.zeros((m,n))\n",
    "    R = np.zeros((n,n))\n",
    "    \n",
    "    for i in range(n):\n",
    "        W = A[:,i:i+1]\n",
    "        for j in range(i):\n",
    "            scalar = np.dot(np.transpose(A[:,i:i+1]),Q[:,j:j+1])\n",
    "            W = W - scalar*Q[:,j:j+1]\n",
    "            R[j,i] = scalar\n",
    "            # записать scalar в матрицу R\n",
    "        Q[:,i:i+1] = W/sla.norm(W)\n",
    "        R[i,i] = np.dot(np.transpose(A[:,i:i+1]),Q[:,i:i+1])\n",
    "    \n",
    "    #R = Q.transpose()@A\n",
    "    \n",
    "    return (Q,R)"
   ]
  },
  {
   "cell_type": "code",
   "execution_count": 14,
   "id": "dcf21a00",
   "metadata": {},
   "outputs": [],
   "source": [
    "[Q,R] =  QRFactorization(A)\n",
    "[Q2,R2] =  QRFactorization2(A)"
   ]
  },
  {
   "cell_type": "code",
   "execution_count": 15,
   "id": "161fbcd2",
   "metadata": {},
   "outputs": [
    {
     "name": "stdout",
     "output_type": "stream",
     "text": [
      "[[ 0.408  0.667 -0.519  0.346]\n",
      " [ 0.    -0.333  0.189  0.924]\n",
      " [ 0.816 -0.     0.566 -0.115]\n",
      " [-0.408  0.667  0.613  0.115]]\n",
      "[[ 2.449  2.449  0.408 -0.816]\n",
      " [-0.     3.     3.667  2.667]\n",
      " [ 0.     0.     1.179  3.017]\n",
      " [ 0.    -0.    -0.     0.346]]\n",
      "[[ 1.  3.  2. -0.]\n",
      " [ 0. -1. -1. -0.]\n",
      " [ 2.  2.  1.  1.]\n",
      " [-1.  1.  3.  4.]]\n",
      "[[0. 0. 0. 0.]\n",
      " [0. 0. 0. 0.]\n",
      " [0. 0. 0. 0.]\n",
      " [0. 0. 0. 0.]]\n",
      "[[ 0.  0.  0.  0.]\n",
      " [ 0.  0.  0.  0.]\n",
      " [-0. -0. -0.  0.]\n",
      " [-0.  0.  0.  0.]]\n",
      "[[ 1.  3.  2. -0.]\n",
      " [ 0. -1. -1. -0.]\n",
      " [ 2.  2.  1.  1.]\n",
      " [-1.  1.  3.  4.]]\n"
     ]
    }
   ],
   "source": [
    "print(np.round(Q,3))\n",
    "print(np.round(R,3))\n",
    "print(np.round(Q@R))\n",
    "\n",
    "print(np.round(Q2 - Q,3))\n",
    "print(np.round(R2 - R,3))\n",
    "print(np.round(Q2@R2))"
   ]
  },
  {
   "cell_type": "code",
   "execution_count": null,
   "id": "41bb020e",
   "metadata": {},
   "outputs": [],
   "source": []
  }
 ],
 "metadata": {
  "kernelspec": {
   "display_name": "Python 3 (ipykernel)",
   "language": "python",
   "name": "python3"
  },
  "language_info": {
   "codemirror_mode": {
    "name": "ipython",
    "version": 3
   },
   "file_extension": ".py",
   "mimetype": "text/x-python",
   "name": "python",
   "nbconvert_exporter": "python",
   "pygments_lexer": "ipython3",
   "version": "3.10.2"
  }
 },
 "nbformat": 4,
 "nbformat_minor": 5
}
